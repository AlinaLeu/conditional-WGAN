{
 "cells": [
  {
   "cell_type": "markdown",
   "metadata": {},
   "source": [
    "# Conditional Wasserstein GAN"
   ]
  },
  {
   "cell_type": "markdown",
   "metadata": {},
   "source": [
    "#### Variables\n",
    "$x$: full image, \n",
    "$z$: latent noise variable, \n",
    "$v$: conditional variable as column of an image"
   ]
  },
  {
   "cell_type": "markdown",
   "metadata": {},
   "source": [
    "#### TODO:\n",
    "- possibility to choose flexible columns in the form of 3,4 or 3:5\n",
    "- create files and maybe load mnist-data (check if allowed)\n",
    "- checkpoints such that they differ regarding v dim\n"
   ]
  },
  {
   "cell_type": "code",
   "execution_count": 1,
   "metadata": {
    "scrolled": false
   },
   "outputs": [
    {
     "name": "stdout",
     "output_type": "stream",
     "text": [
      "{'batch_size': 64,\n",
      " 'beta1': 0.5,\n",
      " 'beta2': 0.9,\n",
      " 'checkpoint_dir': 'checkpoint',\n",
      " 'crop': False,\n",
      " 'd_iter': 5,\n",
      " 'dataset': 'mnist',\n",
      " 'input_fname_pattern': '*.jpg',\n",
      " 'input_height': 28,\n",
      " 'input_width': None,\n",
      " 'learning_rate': 5e-05,\n",
      " 'max_iter': 10000,\n",
      " 'model_type': 'cWGAN',\n",
      " 'output_height': 28,\n",
      " 'output_width': None,\n",
      " 'sample_dir': 'samples',\n",
      " 'train': True,\n",
      " 'train_size': inf,\n",
      " 'v': '[[2],[10,12]]'}\n",
      "[[2],[10,12]]\n",
      "[[2], [10, 12]]\n",
      "[2, 10, 11]\n",
      "Dim v:  (60000, 28, 3, 1)\n",
      "---------\n",
      "Variables: name (type shape) [size]\n",
      "---------\n",
      "generator/g_h0_lin/Matrix:0 (float32_ref 194x1024) [198656, bytes: 794624]\n",
      "generator/g_h0_lin/bias:0 (float32_ref 1024) [1024, bytes: 4096]\n",
      "generator/g_bn0/beta:0 (float32_ref 1024) [1024, bytes: 4096]\n",
      "generator/g_bn0/gamma:0 (float32_ref 1024) [1024, bytes: 4096]\n",
      "generator/g_h1_lin/Matrix:0 (float32_ref 1034x6272) [6485248, bytes: 25940992]\n",
      "generator/g_h1_lin/bias:0 (float32_ref 6272) [6272, bytes: 25088]\n",
      "generator/g_bn1/beta:0 (float32_ref 6272) [6272, bytes: 25088]\n",
      "generator/g_bn1/gamma:0 (float32_ref 6272) [6272, bytes: 25088]\n",
      "generator/g_h2/weights:0 (float32_ref 5x5x128x138) [441600, bytes: 1766400]\n",
      "generator/g_h2/biases:0 (float32_ref 128) [128, bytes: 512]\n",
      "generator/g_bn2/beta:0 (float32_ref 128) [128, bytes: 512]\n",
      "generator/g_bn2/gamma:0 (float32_ref 128) [128, bytes: 512]\n",
      "generator/g_h3/weights:0 (float32_ref 5x5x1x138) [3450, bytes: 13800]\n",
      "generator/g_h3/biases:0 (float32_ref 1) [1, bytes: 4]\n",
      "discriminator/d_h0_conv/weights:0 (float32_ref 5x5x11x11) [3025, bytes: 12100]\n",
      "discriminator/d_h0_conv/biases:0 (float32_ref 11) [11, bytes: 44]\n",
      "discriminator/d_h1_conv/weights:0 (float32_ref 5x5x21x74) [38850, bytes: 155400]\n",
      "discriminator/d_h1_conv/biases:0 (float32_ref 74) [74, bytes: 296]\n",
      "discriminator/d_bn1/beta:0 (float32_ref 74) [74, bytes: 296]\n",
      "discriminator/d_bn1/gamma:0 (float32_ref 74) [74, bytes: 296]\n",
      "discriminator/d_h2_lin/Matrix:0 (float32_ref 4154x1024) [4253696, bytes: 17014784]\n",
      "discriminator/d_h2_lin/bias:0 (float32_ref 1024) [1024, bytes: 4096]\n",
      "discriminator/d_bn2/beta:0 (float32_ref 1024) [1024, bytes: 4096]\n",
      "discriminator/d_bn2/gamma:0 (float32_ref 1024) [1024, bytes: 4096]\n",
      "discriminator/d_h3_lin/Matrix:0 (float32_ref 1034x1) [1034, bytes: 4136]\n",
      "discriminator/d_h3_lin/bias:0 (float32_ref 1) [1, bytes: 4]\n",
      "Total size of variables: 11451138\n",
      "Total bytes of variables: 45804552\n",
      " [*] Reading checkpoints...\n",
      " [*] Failed to find a checkpoint\n",
      " [!] Load failed...\n",
      "Iter: 0 Epoch: 1 [100/1] time: 3.4905, d_loss: 0.00000374, g_loss: 0.00133417\n",
      "[Sample] d_loss: -0.00001412, g_loss: 0.00215201\n",
      "Iter: 100 Epoch: 4 [2880/101] time: 60.7486, d_loss: -0.03301248, g_loss: 0.01751950\n",
      "Iter: 200 Epoch: 4 [3380/201] time: 75.0784, d_loss: -0.03221275, g_loss: 0.01822749\n",
      "Iter: 300 Epoch: 5 [3880/301] time: 89.5385, d_loss: -0.02830016, g_loss: 0.01465042\n",
      "Iter: 400 Epoch: 5 [4380/401] time: 103.8994, d_loss: -0.02813161, g_loss: 0.01663159\n",
      "Iter: 500 Epoch: 6 [4975/501] time: 120.0054, d_loss: -0.02585992, g_loss: 0.01455886\n",
      "[Sample] d_loss: -0.02679086, g_loss: 0.01468638\n",
      "Iter: 600 Epoch: 6 [5475/601] time: 136.8685, d_loss: -0.02155936, g_loss: 0.00920237\n",
      "Iter: 700 Epoch: 7 [5975/701] time: 151.2892, d_loss: -0.01749770, g_loss: 0.01232964\n",
      "Iter: 800 Epoch: 7 [6475/801] time: 165.7491, d_loss: -0.01472709, g_loss: 0.00764981\n",
      "Iter: 900 Epoch: 8 [6975/901] time: 180.1964, d_loss: -0.01382781, g_loss: 0.00785002\n",
      "Iter: 1000 Epoch: 9 [7570/1001] time: 196.3291, d_loss: -0.01069336, g_loss: 0.00233086\n",
      "[Sample] d_loss: -0.01230963, g_loss: 0.00853024\n",
      "Iter: 1100 Epoch: 9 [8070/1101] time: 213.1350, d_loss: -0.00940392, g_loss: 0.00583803\n",
      "Iter: 1200 Epoch: 10 [8570/1201] time: 227.5853, d_loss: -0.00859804, g_loss: 0.00468381\n",
      "Iter: 1300 Epoch: 10 [9070/1301] time: 241.9909, d_loss: -0.00788280, g_loss: 0.00267331\n",
      "Iter: 1400 Epoch: 11 [9570/1401] time: 256.3376, d_loss: -0.00748407, g_loss: 0.00166185\n",
      "Iter: 1500 Epoch: 11 [10165/1501] time: 272.4635, d_loss: -0.00739181, g_loss: 0.00366729\n",
      "[Sample] d_loss: -0.00808253, g_loss: 0.00503879\n",
      "Iter: 1600 Epoch: 12 [10665/1601] time: 289.1678, d_loss: -0.00739176, g_loss: 0.00434787\n",
      "Iter: 1700 Epoch: 12 [11165/1701] time: 303.5609, d_loss: -0.00768999, g_loss: 0.00259025\n",
      "Iter: 1800 Epoch: 13 [11665/1801] time: 318.0686, d_loss: -0.00804613, g_loss: 0.00401277\n",
      "Iter: 1900 Epoch: 13 [12165/1901] time: 332.5249, d_loss: -0.00682553, g_loss: -0.00008709\n",
      "Iter: 2000 Epoch: 14 [12760/2001] time: 348.6797, d_loss: -0.00666615, g_loss: 0.00150790\n",
      "[Sample] d_loss: -0.00701891, g_loss: 0.00383830\n",
      "Iter: 2100 Epoch: 15 [13260/2101] time: 365.8279, d_loss: -0.00630925, g_loss: 0.00241776\n",
      "Iter: 2200 Epoch: 15 [13760/2201] time: 380.2084, d_loss: -0.00638977, g_loss: 0.00288642\n",
      "Iter: 2300 Epoch: 16 [14260/2301] time: 394.5960, d_loss: -0.00607424, g_loss: 0.00312222\n",
      "Iter: 2400 Epoch: 16 [14760/2401] time: 408.9421, d_loss: -0.00647285, g_loss: 0.00146911\n",
      "Iter: 2500 Epoch: 17 [15355/2501] time: 425.0510, d_loss: -0.00568575, g_loss: 0.00071971\n",
      "[Sample] d_loss: -0.00682026, g_loss: 0.00427778\n",
      "Iter: 2600 Epoch: 17 [15855/2601] time: 441.8691, d_loss: -0.00627926, g_loss: 0.00283816\n",
      "Iter: 2700 Epoch: 18 [16355/2701] time: 456.1778, d_loss: -0.00668532, g_loss: 0.00252352\n",
      "Iter: 2800 Epoch: 18 [16855/2801] time: 470.5284, d_loss: -0.00601126, g_loss: 0.00088415\n",
      "Iter: 2900 Epoch: 19 [17355/2901] time: 484.9868, d_loss: -0.00634375, g_loss: 0.00441309\n",
      "Iter: 3000 Epoch: 20 [17950/3001] time: 501.0847, d_loss: -0.00664789, g_loss: 0.00252759\n",
      "[Sample] d_loss: -0.00612416, g_loss: 0.00302600\n",
      "Iter: 3100 Epoch: 20 [18450/3101] time: 518.1810, d_loss: -0.00608927, g_loss: 0.00434850\n",
      "Iter: 3200 Epoch: 21 [18950/3201] time: 532.6174, d_loss: -0.00538227, g_loss: 0.00256818\n",
      "Iter: 3300 Epoch: 21 [19450/3301] time: 546.9531, d_loss: -0.00614993, g_loss: 0.00009614\n",
      "Iter: 3400 Epoch: 22 [19950/3401] time: 561.3685, d_loss: -0.00638812, g_loss: 0.00188270\n",
      "Iter: 3500 Epoch: 22 [20545/3501] time: 577.7751, d_loss: -0.00674622, g_loss: 0.00254071\n",
      "[Sample] d_loss: -0.00618416, g_loss: 0.00330049\n",
      "Iter: 3600 Epoch: 23 [21045/3601] time: 594.7857, d_loss: -0.00640672, g_loss: 0.00206374\n"
     ]
    },
    {
     "ename": "KeyboardInterrupt",
     "evalue": "",
     "output_type": "error",
     "traceback": [
      "\u001b[1;31m---------------------------------------------------------------------------\u001b[0m",
      "\u001b[1;31mKeyboardInterrupt\u001b[0m                         Traceback (most recent call last)",
      "\u001b[1;32mD:\\Dokumente\\Studium\\MA Mathematik\\Masterarbeit\\ma_test\\WGAN\\conditional-WGAN\\main.py\u001b[0m in \u001b[0;36m<module>\u001b[1;34m()\u001b[0m\n\u001b[0;32m    118\u001b[0m \u001b[1;31m# checks if file is executed in shell, if so parses arguments and executes main(_)\u001b[0m\u001b[1;33m\u001b[0m\u001b[1;33m\u001b[0m\u001b[0m\n\u001b[0;32m    119\u001b[0m \u001b[1;32mif\u001b[0m \u001b[0m__name__\u001b[0m \u001b[1;33m==\u001b[0m \u001b[1;34m'__main__'\u001b[0m\u001b[1;33m:\u001b[0m\u001b[1;33m\u001b[0m\u001b[0m\n\u001b[1;32m--> 120\u001b[1;33m     \u001b[0mtf\u001b[0m\u001b[1;33m.\u001b[0m\u001b[0mapp\u001b[0m\u001b[1;33m.\u001b[0m\u001b[0mrun\u001b[0m\u001b[1;33m(\u001b[0m\u001b[1;33m)\u001b[0m\u001b[1;33m\u001b[0m\u001b[0m\n\u001b[0m",
      "\u001b[1;32mc:\\program files\\python36\\lib\\site-packages\\tensorflow\\python\\platform\\app.py\u001b[0m in \u001b[0;36mrun\u001b[1;34m(main, argv)\u001b[0m\n\u001b[0;32m     46\u001b[0m   \u001b[1;31m# Call the main function, passing through any arguments\u001b[0m\u001b[1;33m\u001b[0m\u001b[1;33m\u001b[0m\u001b[0m\n\u001b[0;32m     47\u001b[0m   \u001b[1;31m# to the final program.\u001b[0m\u001b[1;33m\u001b[0m\u001b[1;33m\u001b[0m\u001b[0m\n\u001b[1;32m---> 48\u001b[1;33m   \u001b[0m_sys\u001b[0m\u001b[1;33m.\u001b[0m\u001b[0mexit\u001b[0m\u001b[1;33m(\u001b[0m\u001b[0mmain\u001b[0m\u001b[1;33m(\u001b[0m\u001b[0m_sys\u001b[0m\u001b[1;33m.\u001b[0m\u001b[0margv\u001b[0m\u001b[1;33m[\u001b[0m\u001b[1;33m:\u001b[0m\u001b[1;36m1\u001b[0m\u001b[1;33m]\u001b[0m \u001b[1;33m+\u001b[0m \u001b[0mflags_passthrough\u001b[0m\u001b[1;33m)\u001b[0m\u001b[1;33m)\u001b[0m\u001b[1;33m\u001b[0m\u001b[0m\n\u001b[0m\u001b[0;32m     49\u001b[0m \u001b[1;33m\u001b[0m\u001b[0m\n\u001b[0;32m     50\u001b[0m \u001b[1;33m\u001b[0m\u001b[0m\n",
      "\u001b[1;32mD:\\Dokumente\\Studium\\MA Mathematik\\Masterarbeit\\ma_test\\WGAN\\conditional-WGAN\\main.py\u001b[0m in \u001b[0;36mmain\u001b[1;34m(_)\u001b[0m\n\u001b[0;32m    110\u001b[0m         \u001b[1;32mif\u001b[0m \u001b[0mFLAGS\u001b[0m\u001b[1;33m.\u001b[0m\u001b[0mtrain\u001b[0m\u001b[1;33m:\u001b[0m\u001b[1;33m\u001b[0m\u001b[0m\n\u001b[0;32m    111\u001b[0m             \u001b[1;31m# train UnifiedDCGAN model with flag values\u001b[0m\u001b[1;33m\u001b[0m\u001b[1;33m\u001b[0m\u001b[0m\n\u001b[1;32m--> 112\u001b[1;33m             \u001b[0mmodel\u001b[0m\u001b[1;33m.\u001b[0m\u001b[0mtrain\u001b[0m\u001b[1;33m(\u001b[0m\u001b[0mFLAGS\u001b[0m\u001b[1;33m)\u001b[0m\u001b[1;33m\u001b[0m\u001b[0m\n\u001b[0m\u001b[0;32m    113\u001b[0m         \u001b[1;32melse\u001b[0m\u001b[1;33m:\u001b[0m\u001b[1;33m\u001b[0m\u001b[0m\n\u001b[0;32m    114\u001b[0m             \u001b[1;31m# prevent testing untrained model\u001b[0m\u001b[1;33m\u001b[0m\u001b[1;33m\u001b[0m\u001b[0m\n",
      "\u001b[1;32mD:\\Dokumente\\Studium\\MA Mathematik\\Masterarbeit\\ma_test\\WGAN\\conditional-WGAN\\model.py\u001b[0m in \u001b[0;36mtrain\u001b[1;34m(self, config)\u001b[0m\n\u001b[0;32m    491\u001b[0m             \u001b[1;32mfor\u001b[0m \u001b[0m_\u001b[0m \u001b[1;32min\u001b[0m \u001b[0mrange\u001b[0m\u001b[1;33m(\u001b[0m\u001b[0m_d_iters\u001b[0m\u001b[1;33m)\u001b[0m\u001b[1;33m:\u001b[0m\u001b[1;33m\u001b[0m\u001b[0m\n\u001b[0;32m    492\u001b[0m                 \u001b[0mepoch\u001b[0m\u001b[1;33m,\u001b[0m \u001b[0mstep\u001b[0m\u001b[1;33m,\u001b[0m \u001b[0md_train_feed_dict\u001b[0m\u001b[1;33m,\u001b[0m \u001b[0mg_train_feed_dict\u001b[0m \u001b[1;33m=\u001b[0m \u001b[0mnext\u001b[0m\u001b[1;33m(\u001b[0m\u001b[0minf_data_gen\u001b[0m\u001b[1;33m)\u001b[0m\u001b[1;33m\u001b[0m\u001b[0m\n\u001b[1;32m--> 493\u001b[1;33m                 \u001b[0mself\u001b[0m\u001b[1;33m.\u001b[0m\u001b[0msess\u001b[0m\u001b[1;33m.\u001b[0m\u001b[0mrun\u001b[0m\u001b[1;33m(\u001b[0m\u001b[0md_optim\u001b[0m\u001b[1;33m,\u001b[0m \u001b[0mfeed_dict\u001b[0m\u001b[1;33m=\u001b[0m\u001b[0md_train_feed_dict\u001b[0m\u001b[1;33m)\u001b[0m\u001b[1;33m\u001b[0m\u001b[0m\n\u001b[0m\u001b[0;32m    494\u001b[0m                 \u001b[1;32mif\u001b[0m \u001b[0md_clip\u001b[0m \u001b[1;32mis\u001b[0m \u001b[1;32mnot\u001b[0m \u001b[1;32mNone\u001b[0m\u001b[1;33m:\u001b[0m\u001b[1;33m\u001b[0m\u001b[0m\n\u001b[0;32m    495\u001b[0m                     \u001b[0mself\u001b[0m\u001b[1;33m.\u001b[0m\u001b[0msess\u001b[0m\u001b[1;33m.\u001b[0m\u001b[0mrun\u001b[0m\u001b[1;33m(\u001b[0m\u001b[0md_clip\u001b[0m\u001b[1;33m)\u001b[0m\u001b[1;33m\u001b[0m\u001b[0m\n",
      "\u001b[1;32mc:\\program files\\python36\\lib\\site-packages\\tensorflow\\python\\client\\session.py\u001b[0m in \u001b[0;36mrun\u001b[1;34m(self, fetches, feed_dict, options, run_metadata)\u001b[0m\n\u001b[0;32m    887\u001b[0m     \u001b[1;32mtry\u001b[0m\u001b[1;33m:\u001b[0m\u001b[1;33m\u001b[0m\u001b[0m\n\u001b[0;32m    888\u001b[0m       result = self._run(None, fetches, feed_dict, options_ptr,\n\u001b[1;32m--> 889\u001b[1;33m                          run_metadata_ptr)\n\u001b[0m\u001b[0;32m    890\u001b[0m       \u001b[1;32mif\u001b[0m \u001b[0mrun_metadata\u001b[0m\u001b[1;33m:\u001b[0m\u001b[1;33m\u001b[0m\u001b[0m\n\u001b[0;32m    891\u001b[0m         \u001b[0mproto_data\u001b[0m \u001b[1;33m=\u001b[0m \u001b[0mtf_session\u001b[0m\u001b[1;33m.\u001b[0m\u001b[0mTF_GetBuffer\u001b[0m\u001b[1;33m(\u001b[0m\u001b[0mrun_metadata_ptr\u001b[0m\u001b[1;33m)\u001b[0m\u001b[1;33m\u001b[0m\u001b[0m\n",
      "\u001b[1;32mc:\\program files\\python36\\lib\\site-packages\\tensorflow\\python\\client\\session.py\u001b[0m in \u001b[0;36m_run\u001b[1;34m(self, handle, fetches, feed_dict, options, run_metadata)\u001b[0m\n\u001b[0;32m   1118\u001b[0m     \u001b[1;32mif\u001b[0m \u001b[0mfinal_fetches\u001b[0m \u001b[1;32mor\u001b[0m \u001b[0mfinal_targets\u001b[0m \u001b[1;32mor\u001b[0m \u001b[1;33m(\u001b[0m\u001b[0mhandle\u001b[0m \u001b[1;32mand\u001b[0m \u001b[0mfeed_dict_tensor\u001b[0m\u001b[1;33m)\u001b[0m\u001b[1;33m:\u001b[0m\u001b[1;33m\u001b[0m\u001b[0m\n\u001b[0;32m   1119\u001b[0m       results = self._do_run(handle, final_targets, final_fetches,\n\u001b[1;32m-> 1120\u001b[1;33m                              feed_dict_tensor, options, run_metadata)\n\u001b[0m\u001b[0;32m   1121\u001b[0m     \u001b[1;32melse\u001b[0m\u001b[1;33m:\u001b[0m\u001b[1;33m\u001b[0m\u001b[0m\n\u001b[0;32m   1122\u001b[0m       \u001b[0mresults\u001b[0m \u001b[1;33m=\u001b[0m \u001b[1;33m[\u001b[0m\u001b[1;33m]\u001b[0m\u001b[1;33m\u001b[0m\u001b[0m\n",
      "\u001b[1;32mc:\\program files\\python36\\lib\\site-packages\\tensorflow\\python\\client\\session.py\u001b[0m in \u001b[0;36m_do_run\u001b[1;34m(self, handle, target_list, fetch_list, feed_dict, options, run_metadata)\u001b[0m\n\u001b[0;32m   1315\u001b[0m     \u001b[1;32mif\u001b[0m \u001b[0mhandle\u001b[0m \u001b[1;32mis\u001b[0m \u001b[1;32mNone\u001b[0m\u001b[1;33m:\u001b[0m\u001b[1;33m\u001b[0m\u001b[0m\n\u001b[0;32m   1316\u001b[0m       return self._do_call(_run_fn, self._session, feeds, fetches, targets,\n\u001b[1;32m-> 1317\u001b[1;33m                            options, run_metadata)\n\u001b[0m\u001b[0;32m   1318\u001b[0m     \u001b[1;32melse\u001b[0m\u001b[1;33m:\u001b[0m\u001b[1;33m\u001b[0m\u001b[0m\n\u001b[0;32m   1319\u001b[0m       \u001b[1;32mreturn\u001b[0m \u001b[0mself\u001b[0m\u001b[1;33m.\u001b[0m\u001b[0m_do_call\u001b[0m\u001b[1;33m(\u001b[0m\u001b[0m_prun_fn\u001b[0m\u001b[1;33m,\u001b[0m \u001b[0mself\u001b[0m\u001b[1;33m.\u001b[0m\u001b[0m_session\u001b[0m\u001b[1;33m,\u001b[0m \u001b[0mhandle\u001b[0m\u001b[1;33m,\u001b[0m \u001b[0mfeeds\u001b[0m\u001b[1;33m,\u001b[0m \u001b[0mfetches\u001b[0m\u001b[1;33m)\u001b[0m\u001b[1;33m\u001b[0m\u001b[0m\n",
      "\u001b[1;32mc:\\program files\\python36\\lib\\site-packages\\tensorflow\\python\\client\\session.py\u001b[0m in \u001b[0;36m_do_call\u001b[1;34m(self, fn, *args)\u001b[0m\n\u001b[0;32m   1321\u001b[0m   \u001b[1;32mdef\u001b[0m \u001b[0m_do_call\u001b[0m\u001b[1;33m(\u001b[0m\u001b[0mself\u001b[0m\u001b[1;33m,\u001b[0m \u001b[0mfn\u001b[0m\u001b[1;33m,\u001b[0m \u001b[1;33m*\u001b[0m\u001b[0margs\u001b[0m\u001b[1;33m)\u001b[0m\u001b[1;33m:\u001b[0m\u001b[1;33m\u001b[0m\u001b[0m\n\u001b[0;32m   1322\u001b[0m     \u001b[1;32mtry\u001b[0m\u001b[1;33m:\u001b[0m\u001b[1;33m\u001b[0m\u001b[0m\n\u001b[1;32m-> 1323\u001b[1;33m       \u001b[1;32mreturn\u001b[0m \u001b[0mfn\u001b[0m\u001b[1;33m(\u001b[0m\u001b[1;33m*\u001b[0m\u001b[0margs\u001b[0m\u001b[1;33m)\u001b[0m\u001b[1;33m\u001b[0m\u001b[0m\n\u001b[0m\u001b[0;32m   1324\u001b[0m     \u001b[1;32mexcept\u001b[0m \u001b[0merrors\u001b[0m\u001b[1;33m.\u001b[0m\u001b[0mOpError\u001b[0m \u001b[1;32mas\u001b[0m \u001b[0me\u001b[0m\u001b[1;33m:\u001b[0m\u001b[1;33m\u001b[0m\u001b[0m\n\u001b[0;32m   1325\u001b[0m       \u001b[0mmessage\u001b[0m \u001b[1;33m=\u001b[0m \u001b[0mcompat\u001b[0m\u001b[1;33m.\u001b[0m\u001b[0mas_text\u001b[0m\u001b[1;33m(\u001b[0m\u001b[0me\u001b[0m\u001b[1;33m.\u001b[0m\u001b[0mmessage\u001b[0m\u001b[1;33m)\u001b[0m\u001b[1;33m\u001b[0m\u001b[0m\n",
      "\u001b[1;32mc:\\program files\\python36\\lib\\site-packages\\tensorflow\\python\\client\\session.py\u001b[0m in \u001b[0;36m_run_fn\u001b[1;34m(session, feed_dict, fetch_list, target_list, options, run_metadata)\u001b[0m\n\u001b[0;32m   1300\u001b[0m           return tf_session.TF_Run(session, options,\n\u001b[0;32m   1301\u001b[0m                                    \u001b[0mfeed_dict\u001b[0m\u001b[1;33m,\u001b[0m \u001b[0mfetch_list\u001b[0m\u001b[1;33m,\u001b[0m \u001b[0mtarget_list\u001b[0m\u001b[1;33m,\u001b[0m\u001b[1;33m\u001b[0m\u001b[0m\n\u001b[1;32m-> 1302\u001b[1;33m                                    status, run_metadata)\n\u001b[0m\u001b[0;32m   1303\u001b[0m \u001b[1;33m\u001b[0m\u001b[0m\n\u001b[0;32m   1304\u001b[0m     \u001b[1;32mdef\u001b[0m \u001b[0m_prun_fn\u001b[0m\u001b[1;33m(\u001b[0m\u001b[0msession\u001b[0m\u001b[1;33m,\u001b[0m \u001b[0mhandle\u001b[0m\u001b[1;33m,\u001b[0m \u001b[0mfeed_dict\u001b[0m\u001b[1;33m,\u001b[0m \u001b[0mfetch_list\u001b[0m\u001b[1;33m)\u001b[0m\u001b[1;33m:\u001b[0m\u001b[1;33m\u001b[0m\u001b[0m\n",
      "\u001b[1;31mKeyboardInterrupt\u001b[0m: "
     ]
    }
   ],
   "source": [
    "# Run WGAN Implementation on MNIST with 10000 iterations\n",
    "%run main.py --dataset=mnist --model_type=cWGAN --batch_size=64 --input_height=28 --output_height=28 --d_iter=5 --max_iter=10000 --learning_rate=0.00005 --train --v=[[2],[10,12]]"
   ]
  },
  {
   "cell_type": "code",
   "execution_count": null,
   "metadata": {},
   "outputs": [],
   "source": []
  }
 ],
 "metadata": {
  "kernelspec": {
   "display_name": "Python 3",
   "language": "python",
   "name": "python3"
  },
  "language_info": {
   "codemirror_mode": {
    "name": "ipython",
    "version": 3
   },
   "file_extension": ".py",
   "mimetype": "text/x-python",
   "name": "python",
   "nbconvert_exporter": "python",
   "pygments_lexer": "ipython3",
   "version": "3.6.2"
  }
 },
 "nbformat": 4,
 "nbformat_minor": 2
}
